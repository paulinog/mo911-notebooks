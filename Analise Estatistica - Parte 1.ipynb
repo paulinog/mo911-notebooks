{
 "cells": [
  {
   "cell_type": "code",
   "execution_count": 2,
   "id": "a412bf8b",
   "metadata": {},
   "outputs": [],
   "source": [
    "import numpy as np\n",
    "import scipy.stats as stats\n",
    "import matplotlib.pyplot as plt"
   ]
  },
  {
   "cell_type": "markdown",
   "id": "be3e3b02",
   "metadata": {},
   "source": [
    "#### Disclaimer: Esse material foi baseado em uma versão anterior preparada pelo Prof. Jacques Wainer. O link para os slides do Prof. Wainer está no Classroom da turma."
   ]
  },
  {
   "cell_type": "markdown",
   "id": "1bb699fc",
   "metadata": {},
   "source": [
    "# Testes estatísticos de significância\n",
    "\n",
    "- O papel de testes estatísticos é dar evidencias que dois (ou mais) conjuntos de dados não vieram da mesma fonte.\n",
    "\n",
    "Você rodou 2 versões de um programa em vários dados:\n",
    "\n",
    "- programa 1 demorou 10.30, 12.08, 9.33, 9.62, 9.88 (segundos) em 5 exemplos\n",
    "- programa 2 demorou 9.23, 9.84, 8.55, 10.42 em outros 4 exemplos.\n",
    "\n",
    "Há dois conjuntos de dados. Não existe teste para 2 números um contra o outro, só conjuntos de dados\n",
    "\n",
    "- Dizer que os dois conjuntos de dados são “diferentes” é numa primeira aproximação dizer que esses dados vieram de duas fontes de dados (“populações”) diferentes.\n",
    "\n",
    "- Ou melhor, dizer que dois conjuntos são **diferentes** é dizer que é bem **improvável** que os dados vieram da **mesma** fonte.\n"
   ]
  },
  {
   "cell_type": "markdown",
   "id": "2676d9c1",
   "metadata": {},
   "source": [
    "**Exemplo extraído do livro do Forsyth**\n",
    "\n",
    "Imagine we hypothesize that the average human body temperature is 95F (35C). We collect temperature measurements $x_i$ from a random sample of $N$ people. The mean of this sample is unlikely to be 95F (35C). The sample will likely have too many people who run too hot, or too cool, to get exactly the number we expect. We must now find what caused the difference between the sample mean and the value we hypothesized. We could be wrong about the average body temperature. Alternatively, we could be right, and the difference might just be because the sample is randomly chosen. We can assess the significance of the evidence against the hypothesis by finding out what fraction of samples would give us sample means like the one we observe if the hypothesis is true."
   ]
  },
  {
   "cell_type": "markdown",
   "id": "8d724d19",
   "metadata": {},
   "source": [
    "## Erros de amostragem (ou ruídos de amostragem)\n",
    "\n",
    "Dados retirados (amostrados) de uma mesma fonte podem ter médias diferentes. A diferença é apenas por causa da sorte ou do azar. Isso é chamado de *erro de amostragem*. O nome erro não é um bom nome, pense como *ruído de amostragem*\n",
    "\n",
    "Vejamos um exemplo. Primeiro vamos gerar um população com 10.000 números aleatórios, com média 100 e desvio padrão 30."
   ]
  },
  {
   "cell_type": "code",
   "execution_count": 92,
   "id": "f140e5e0",
   "metadata": {},
   "outputs": [],
   "source": [
    "np.random.seed(1234)\n",
    "pop = np.random.normal(100,30,size=10000)"
   ]
  },
  {
   "cell_type": "markdown",
   "id": "231e51d5",
   "metadata": {},
   "source": [
    "Vamos gerar um histograma para verificar se os dados se assemelham a uma distribuição normal realmente."
   ]
  },
  {
   "cell_type": "code",
   "execution_count": 93,
   "id": "0829291f",
   "metadata": {},
   "outputs": [
    {
     "data": {
      "image/png": "[encoded data removed]",
      "text/plain": [
       "<Figure size 640x480 with 1 Axes>"
      ]
     },
     "metadata": {},
     "output_type": "display_data"
    }
   ],
   "source": [
    "plt.hist(pop, bins='auto')\n",
    "plt.title(\"Histograma da População\")\n",
    "plt.show()"
   ]
  },
  {
   "cell_type": "markdown",
   "id": "769fac88",
   "metadata": {},
   "source": [
    "Vamos gerar duas amostras vindas dessa população e calcular suas médias."
   ]
  },
  {
   "cell_type": "code",
   "execution_count": 4,
   "id": "d64e0535",
   "metadata": {},
   "outputs": [
    {
     "data": {
      "text/plain": [
       "97.61602493238965"
      ]
     },
     "execution_count": 4,
     "metadata": {},
     "output_type": "execute_result"
    }
   ],
   "source": [
    "p1 = np.random.choice(pop, 10)\n",
    "np.mean(p1)"
   ]
  },
  {
   "cell_type": "code",
   "execution_count": 5,
   "id": "8a58d75a",
   "metadata": {},
   "outputs": [
    {
     "data": {
      "text/plain": [
       "106.78490298465518"
      ]
     },
     "execution_count": 5,
     "metadata": {},
     "output_type": "execute_result"
    }
   ],
   "source": [
    "p2 = np.random.choice(pop, 12)\n",
    "np.mean(p2)"
   ]
  },
  {
   "cell_type": "markdown",
   "id": "4cf72ee7",
   "metadata": {},
   "source": [
    "Vamos assumir que **p2** são os tempos de execução do seu programa e **p1** são os tempos de execução de um programa conhecido publicado na literatura, e seu mestrado é fazer uma implementação mais rápida do programa **p1**\n",
    "\n",
    "Voce pode dizer a sua orientadora que vc terminou o mestrado ja que voce criou um programa que é por volta de **X**% mais rápido que o estado da arte? Rode várias vezes as células acima e veja se é possível fazer alguma afirmação."
   ]
  },
  {
   "cell_type": "markdown",
   "id": "bd683a18",
   "metadata": {},
   "source": [
    "## Teste\n",
    "\n",
    "Um teste estatístico informa a probabilidade de que os dados sejam tão (ou mais) diferentes quanto eles são tendo em vista que eles vieram da mesma fonte de dados. Esse valor é chamado de *p-valor* ou *p-value*\n",
    "\n",
    "Se a probabilidade é alta então é provável que a diferença que voce encontrou na média (ou outras medidas - mais abaixo) é apenas devido a sorte (ruído de amostragem).\n",
    "\n",
    "Se a probabilidade é baixa então voce pode dizer que é pouco provável que os dados vieram de uma mesma fonte, ou \n",
    "\n",
    "Se a probabilidade é baixa voce pode dizer que é bem provável que os dados realmente vieram de 2 fontes diferentes.\n",
    "\n",
    "O termo oficial para dizer que *é bem provável que os dados realmente vieram de 2 fontes diferentes* é a **diferença é estatisticamente significante** ou **a diferença é estatisticamente significativa**"
   ]
  },
  {
   "cell_type": "markdown",
   "id": "f0ff7faf",
   "metadata": {},
   "source": [
    "**Definição de p-valor no livro do Forsyth**\n",
    "\n",
    "The *p-value* represents the fraction of samples that would give a more extreme value of the test statistic than that observed, if the hypothesis was true."
   ]
  },
  {
   "cell_type": "markdown",
   "id": "fb1077b7",
   "metadata": {},
   "source": [
    "### Test Student T-test\n",
    "Vamos aplicar o teste Student T-test para as duas amostras dos programas **p1** e **p2** acima. "
   ]
  },
  {
   "cell_type": "code",
   "execution_count": 6,
   "id": "a29a27ab",
   "metadata": {
    "scrolled": true
   },
   "outputs": [
    {
     "data": {
      "text/plain": [
       "Ttest_indResult(statistic=-0.7288686259977082, pvalue=0.47453134928399654)"
      ]
     },
     "execution_count": 6,
     "metadata": {},
     "output_type": "execute_result"
    }
   ],
   "source": [
    "stats.ttest_ind(p1,p2)\n"
   ]
  },
  {
   "cell_type": "markdown",
   "id": "7f54060d",
   "metadata": {},
   "source": [
    "Vamos agora gerar uma amostra de tamanho parecido mas sabidamente com distribuição diferente e rodar novamente o teste contra a nossa amostra p1."
   ]
  },
  {
   "cell_type": "code",
   "execution_count": 35,
   "id": "bf2570d9",
   "metadata": {
    "scrolled": true
   },
   "outputs": [
    {
     "name": "stdout",
     "output_type": "stream",
     "text": [
      "[184.69774376 145.68338199 148.1152241  144.53880962 140.27896393\n",
      " 189.74013388 164.15271868 140.73252775 142.25038003 157.36451562\n",
      " 133.10708729 151.64674637]\n"
     ]
    }
   ],
   "source": [
    "a = np.random.normal(150,30,size=12)\n",
    "print(a)"
   ]
  },
  {
   "cell_type": "code",
   "execution_count": 20,
   "id": "fe94e6fe",
   "metadata": {
    "scrolled": true
   },
   "outputs": [
    {
     "data": {
      "text/plain": [
       "Ttest_indResult(statistic=-3.9432460844483317, pvalue=0.0006925788114184218)"
      ]
     },
     "execution_count": 20,
     "metadata": {},
     "output_type": "execute_result"
    }
   ],
   "source": [
    "stats.ttest_ind(p1,a)"
   ]
  },
  {
   "cell_type": "markdown",
   "id": "abda6779",
   "metadata": {},
   "source": [
    "Compare os resultados dos dois testes acima. Veja a diferença dos *pvalues* gerados. Faz sentido?"
   ]
  },
  {
   "cell_type": "markdown",
   "id": "041bb959",
   "metadata": {},
   "source": [
    "### Valor usado como decisão: *p < 0.05*\n",
    "\n",
    "Tradicionalmente, na maioria das Ciências e em particular em Computação usa-se o valor de 0.05 de p-valor para afirmar que a diferença é estatisticamente significante\n",
    "\n",
    "Na prática, se o p-valor do seu teste der 0.051 você não tem um paper para publicar!!!\n",
    "\n",
    "Há criticas sobre usar o p-valor como decisão, e veremos isso numa próxima aula, mas tradicionalmente essa é a prática."
   ]
  },
  {
   "cell_type": "markdown",
   "id": "bb6a4081",
   "metadata": {},
   "source": [
    "### Testes não paramétricos"
   ]
  },
  {
   "cell_type": "markdown",
   "id": "311766e7",
   "metadata": {},
   "source": [
    "Usados quando os parâmetros de distribuição não são conhecidos. Ex: Vamos repetir os testes acima usando o teste de Wilcoxon. Inciando pelo Wilcoxon rank sums, não pareado."
   ]
  },
  {
   "cell_type": "code",
   "execution_count": 37,
   "id": "7bd05b71",
   "metadata": {},
   "outputs": [
    {
     "name": "stdout",
     "output_type": "stream",
     "text": [
      "stat=-0.231, p=0.817\n",
      "Probably the same distribution\n"
     ]
    }
   ],
   "source": [
    "stat, p = stats.ranksums(p1,p2)\n",
    "print('stat=%.3f, p=%.3f' % (stat, p))\n",
    "if p > 0.05:\n",
    "\tprint('Probably the same distribution')\n",
    "else:\n",
    "\tprint('Probably different distributions')"
   ]
  },
  {
   "cell_type": "code",
   "execution_count": 38,
   "id": "08b537e7",
   "metadata": {},
   "outputs": [
    {
     "name": "stdout",
     "output_type": "stream",
     "text": [
      "stat=-3.060, p=0.002\n",
      "Probably different distributions\n"
     ]
    }
   ],
   "source": [
    "stat, p = stats.ranksums(p1,a)\n",
    "print('stat=%.3f, p=%.3f' % (stat, p))\n",
    "if p > 0.05:\n",
    "\tprint('Probably the same distribution')\n",
    "else:\n",
    "\tprint('Probably different distributions')"
   ]
  },
  {
   "cell_type": "markdown",
   "id": "44cb419f",
   "metadata": {},
   "source": [
    "#### Teste Wilcoxon Pareado"
   ]
  },
  {
   "cell_type": "markdown",
   "id": "dd493d16",
   "metadata": {},
   "source": [
    "Se você passar apenas um parâmetro, você estará fazendo um teste usando as diferenças entre dois conjuntos de dados."
   ]
  },
  {
   "cell_type": "code",
   "execution_count": 25,
   "id": "893db28a",
   "metadata": {
    "code_folding": []
   },
   "outputs": [
    {
     "name": "stdout",
     "output_type": "stream",
     "text": [
      "stat=0.000, p=0.002\n",
      "Probably different distributions\n"
     ]
    }
   ],
   "source": [
    "stat, p = stats.wilcoxon(p1)\n",
    "print('stat=%.3f, p=%.3f' % (stat, p))\n",
    "if p > 0.05:\n",
    "\tprint('Probably the same distribution')\n",
    "else:\n",
    "\tprint('Probably different distributions')"
   ]
  },
  {
   "cell_type": "markdown",
   "id": "aae809ab",
   "metadata": {},
   "source": [
    "Teste de dados pareados precisa ter o mesmo número de valores em ambos os conjuntos."
   ]
  },
  {
   "cell_type": "code",
   "execution_count": 13,
   "id": "0920473a",
   "metadata": {},
   "outputs": [
    {
     "name": "stdout",
     "output_type": "stream",
     "text": [
      "stat=33.000, p=0.677\n",
      "Probably the same distribution\n"
     ]
    }
   ],
   "source": [
    "p1 = np.random.choice(pop, 12)  #p1 tem agora mesmo tamanho de p2\n",
    "\n",
    "stat, p = stats.wilcoxon(p1,p2)\n",
    "print('stat=%.3f, p=%.3f' % (stat, p))\n",
    "if p > 0.05:\n",
    "\tprint('Probably the same distribution')\n",
    "else:\n",
    "\tprint('Probably different distributions')"
   ]
  },
  {
   "cell_type": "code",
   "execution_count": 36,
   "id": "ddc63e9a",
   "metadata": {},
   "outputs": [
    {
     "name": "stdout",
     "output_type": "stream",
     "text": [
      "stat=2.000, p=0.001\n",
      "Probably different distributions\n"
     ]
    }
   ],
   "source": [
    "stat, p = stats.wilcoxon(p1,a)\n",
    "print('stat=%.3f, p=%.3f' % (stat, p))\n",
    "if p > 0.05:\n",
    "\tprint('Probably the same distribution')\n",
    "else:\n",
    "\tprint('Probably different distributions')"
   ]
  },
  {
   "cell_type": "markdown",
   "id": "185e7260",
   "metadata": {},
   "source": [
    "## Resumo: teste estatísticos\n",
    "\n",
    "- Você tem dois conjuntos de dados A e B.\n",
    "\n",
    "- Assuma que eles vieram de uma mesma fonte de dados F (cujos detalhes você não sabe). Isso é chamado de hipótese nula.\n",
    "\n",
    "- Calcule a probabilidade que 2 amostras dessa fonte F tenham as médias tão diferentes quanto as médias de A e B. Essa probabilidade é chamada de p-valor\n",
    "\n",
    "- Se o p-valor é alto, então é mais provável que A e B venham dessa mesma fonte e a diferença nas médias é apenas devido a “sorte”\n",
    "\n",
    "- Se o p-valor for baixo então há baixa chance que dados tão diferentes quanto os de A e B tenham vindo desta mesma fonte F. Se eles vieram de “fontes diferentes” então a diferença entre eles não é apenas por causa da sorte.\n",
    "\n",
    "- Em Ciência em geral, assume-se que p-valores menores que 0.05 (ou 95% de confiança) são evidência suficiente que os dados não vieram de uma mesma fonte.\n",
    "\n",
    "- Assim, se o p-valor é baixo (<0.05), você tem alguma evidência que os conjuntos de dados são realmente diferentes (não vieram da mesma fonte) e diz-se que a diferença é **estatisticamente significante** (com 95% de confiança)\n",
    "\n",
    "- Se o p-valor é alto (>0.05) não há nada que você pode dizer. Você **não** mostrou que os dados são **semelhantes** ou **iguais**. Você apenas não conseguiu mostrar que eles são diferentes!!!\n",
    "\n",
    "- Assim normalmente você quer um p-valor baixo\n",
    "\n",
    "- O papel de testes estatísticos é dar evidencias que a diferença entre a média de dois (ou mais) *conjuntos* de dados não é devido apenas a sorte (ou ao ruído de amostragem)\n",
    "\n",
    "- Exemplos de uso de testes em Python (incluindo os de Wilcoxon acima): https://machinelearningmastery.com/statistical-hypothesis-tests-in-python-cheat-sheet/\n",
    "- Veja material do Prof. Wainer para instruções sobre rodar os testes em R."
   ]
  },
  {
   "cell_type": "markdown",
   "id": "3f56cb77",
   "metadata": {},
   "source": [
    "# Intervalo de Confiança (IC)"
   ]
  },
  {
   "cell_type": "markdown",
   "id": "8462b121",
   "metadata": {},
   "source": [
    "**Definição do livro do Forsyth**\n",
    "\n",
    "Choose some fraction $f$ . An $f$ confidence interval for a population mean is an interval constructed using the sample mean. It has the property that for that fraction $f$ of all samples, the population mean will lie inside the interval constructed from each sample’s mean."
   ]
  },
  {
   "cell_type": "markdown",
   "id": "b0c1f5b3",
   "metadata": {},
   "source": [
    "Antes de entendermos o que é o intervao de confiança, vamos relembrar sobre um método chamado *Bootstraping*. Esse método pode ser interessante quando repetir um experimento muitas vezes é muito custoso.\n",
    "\n",
    "Suponha que você tem um conjunto de dados de tamanho $n$. O método consiste nos seguintes passos:\n",
    "\n",
    " 1. Crie uma amostra *Bootstrapped*: Selecione $n$ itens aleatoriamente, com reposição, do conjunto de dados original.\n",
    " 2. Calcule a estatística de interesse (média? mediana?, etc)\n",
    " 3. Armazene o valor calculado\n",
    " 4. Repita os passos 1->3 muitas vezes (milhares)\n",
    " \n",
    " Crie um histograma com os valores calculados. O Intervalo de confiança (IC) 95% é o intervalo que cobre 95% das estatíticas computadas com bootstrap. Existem outras maneiras de calcular IC através de fórmulas e etc, mas um dos principais atrativos do bootstrap é a flexibilidade de poder criar uma distribuição (visualizada no histograma) para calcular coisas como IC e SE (standard error) sem se preocupar se existe ou não uma fórmula. E funciona para qualquer estatística de interesse.\n",
    " \n",
    " Veja [aqui](https://www.youtube.com/watch?v=Xz0x-8-cgaQ&list=PLblh5JKOoLUK0FLuzwntyYI10UQFUhsY9&index=25) um vídeo ilustrando esse procedimento."
   ]
  },
  {
   "cell_type": "markdown",
   "id": "5f015089",
   "metadata": {},
   "source": [
    "Vamos usar nosso conjunto de medidas p1, calculado acima, como exemplo para o bootstrap. Vamos usar a função bootstrap da *scipy*. Documentação [aqui](https://docs.scipy.org/doc/scipy/reference/generated/scipy.stats.bootstrap.html) "
   ]
  },
  {
   "cell_type": "code",
   "execution_count": 95,
   "id": "c93692ce",
   "metadata": {},
   "outputs": [],
   "source": [
    "p1 = (p1,) #convertendo array para sequencia\n"
   ]
  },
  {
   "cell_type": "code",
   "execution_count": 96,
   "id": "41dade47",
   "metadata": {},
   "outputs": [
    {
     "name": "stdout",
     "output_type": "stream",
     "text": [
      "ConfidenceInterval(low=87.29829940497147, high=102.95305195618425)\n"
     ]
    }
   ],
   "source": [
    "#Default é 10k repetições\n",
    "bootstrap_ci = stats.bootstrap(p1, np.mean, confidence_level=0.95,\n",
    "                         random_state=1, method='BCa')\n",
    "\n",
    "#IC 95% \n",
    "print(bootstrap_ci.confidence_interval)"
   ]
  },
  {
   "cell_type": "code",
   "execution_count": 97,
   "id": "399b7506",
   "metadata": {},
   "outputs": [],
   "source": [
    "p1 = np.random.choice(pop, 30)  #aumentando o número de medidas\n",
    "p1 = (p1,) #convertendo array para sequencia\n"
   ]
  },
  {
   "cell_type": "code",
   "execution_count": 98,
   "id": "212d208c",
   "metadata": {},
   "outputs": [
    {
     "name": "stdout",
     "output_type": "stream",
     "text": [
      "ConfidenceInterval(low=92.14060307182682, high=113.63373426271494)\n"
     ]
    }
   ],
   "source": [
    "#Default é 10k repetições\n",
    "bootstrap_ci = stats.bootstrap(p1, np.mean, confidence_level=0.95,\n",
    "                         random_state=1, method='BCa')\n",
    "\n",
    "#IC 95% \n",
    "print(bootstrap_ci.confidence_interval)"
   ]
  },
  {
   "cell_type": "markdown",
   "id": "50fabc77",
   "metadata": {},
   "source": [
    "Note que o `method=\"BCa\"` é uma forma para calcular o intervalo de confiança que faz algumas correções, que parece ser a mais aceita."
   ]
  },
  {
   "cell_type": "markdown",
   "id": "ea701b69",
   "metadata": {},
   "source": [
    "Um ponto muito interessante é que podemos entender ICs como **testes estatísticos feitos visualmente**. Se o IC acima cobre $95\\%$ das médias, sabemos que qualquer valor fora desse intervalo tem menos de $5\\%$ de chance de ocorrer. Em outras palavras, o *p-value* de qualquer valor fora do IC é $< 0,05$. Como vimos anteriormente, isso é o mesmo que dizer que valores fora do IC são significativamente diferentes. \n",
    "\n",
    "Veja [aqui](https://www.youtube.com/watch?v=TqOeMYtOc1w&list=PLblh5JKOoLUK0FLuzwntyYI10UQFUhsY9&index=23) um vídeo sobre intervalos de confiança.\n"
   ]
  },
  {
   "cell_type": "markdown",
   "id": "8873b482",
   "metadata": {},
   "source": [
    "Vamos comparar os intevalos de confiança dos dois conjuntos de dados abaixo:"
   ]
  },
  {
   "cell_type": "code",
   "execution_count": 108,
   "id": "4e200a2b",
   "metadata": {
    "scrolled": true
   },
   "outputs": [
    {
     "name": "stdout",
     "output_type": "stream",
     "text": [
      "[152.00580532 149.08290773 179.50145028 133.74259495 165.95843818\n",
      " 157.27164217 227.02662124 151.40606832 137.85331197 132.96226501\n",
      " 119.08042396 168.65611825]\n",
      "[128.93068249 180.47450125 164.77046467 143.80489857 104.20406585\n",
      " 203.73591703  97.88574146 117.44503905 173.67125357 157.73391097\n",
      " 167.58482588 139.33439486]\n"
     ]
    }
   ],
   "source": [
    "d1 = np.random.normal(150,30,size=12)\n",
    "d2 = np.random.normal(140,30,size=12)\n",
    "print(d1)\n",
    "print(d2)"
   ]
  },
  {
   "cell_type": "code",
   "execution_count": 109,
   "id": "ba83ad80",
   "metadata": {},
   "outputs": [
    {
     "name": "stdout",
     "output_type": "stream",
     "text": [
      "ConfidenceInterval(low=144.2518742395628, high=176.27479351132635)\n"
     ]
    }
   ],
   "source": [
    "#Default é 10k repetições\n",
    "d1 = (d1,)\n",
    "bootstrap_ci = stats.bootstrap(d1, np.mean, confidence_level=0.95,\n",
    "                         random_state=1, method='BCa')\n",
    "\n",
    "#IC 95% \n",
    "print(bootstrap_ci.confidence_interval)"
   ]
  },
  {
   "cell_type": "code",
   "execution_count": 110,
   "id": "ab8506ed",
   "metadata": {},
   "outputs": [
    {
     "name": "stdout",
     "output_type": "stream",
     "text": [
      "ConfidenceInterval(low=130.41691487552154, high=165.60809024188396)\n"
     ]
    }
   ],
   "source": [
    "#Default é 10k repetições\n",
    "d2 = (d2,)\n",
    "bootstrap_ci = stats.bootstrap(d2, np.mean, confidence_level=0.95,\n",
    "                         random_state=1, method='BCa')\n",
    "\n",
    "#IC 95% \n",
    "print(bootstrap_ci.confidence_interval)"
   ]
  },
  {
   "cell_type": "markdown",
   "id": "5808de3b",
   "metadata": {},
   "source": [
    "Você consegue concluir algo comparando os ICs acima? Vamos repetir o processo com outros conjuntos de dados."
   ]
  },
  {
   "cell_type": "code",
   "execution_count": 38,
   "id": "67128852",
   "metadata": {},
   "outputs": [
    {
     "name": "stdout",
     "output_type": "stream",
     "text": [
      "[ 87.19892414 183.01660825 127.82278191 133.46183434 171.37543851\n",
      " 124.77586917 135.76417721 181.70968281 149.8272113  213.09851688\n",
      " 166.72255474 130.61642215]\n",
      "[214.99151297 159.99353118 161.1358613  200.74977031 163.64789943\n",
      " 182.48547835 203.78620187 168.665836   171.03339903 189.73996452\n",
      " 193.36213988 187.42333381]\n"
     ]
    }
   ],
   "source": [
    "d1 = np.random.normal(150,30,size=12)\n",
    "d2 = np.random.normal(180,30,size=12)\n",
    "print(d1)\n",
    "print(d2)"
   ]
  },
  {
   "cell_type": "code",
   "execution_count": 39,
   "id": "74cb8533",
   "metadata": {},
   "outputs": [
    {
     "name": "stdout",
     "output_type": "stream",
     "text": [
      "ConfidenceInterval(low=132.25220989492144, high=169.3109365643268)\n"
     ]
    }
   ],
   "source": [
    "#Default é 10k repetições\n",
    "d1 = (d1,)\n",
    "bootstrap_ci = stats.bootstrap(d1, np.mean, confidence_level=0.95,\n",
    "                         random_state=1, method='BCa')\n",
    "\n",
    "#IC 95% \n",
    "print(bootstrap_ci.confidence_interval)"
   ]
  },
  {
   "cell_type": "code",
   "execution_count": 40,
   "id": "c764bd8b",
   "metadata": {},
   "outputs": [
    {
     "name": "stdout",
     "output_type": "stream",
     "text": [
      "ConfidenceInterval(low=173.62249651966272, high=193.27302701754988)\n"
     ]
    }
   ],
   "source": [
    "#Default é 10k repetições\n",
    "d2 = (d2,)\n",
    "bootstrap_ci = stats.bootstrap(d2, np.mean, confidence_level=0.95,\n",
    "                         random_state=1, method='BCa')\n",
    "\n",
    "#IC 95% \n",
    "print(bootstrap_ci.confidence_interval)"
   ]
  },
  {
   "cell_type": "markdown",
   "id": "c3744e63",
   "metadata": {},
   "source": [
    "E agora? Qual a conclusão? Repare que não há intersecção entre os ICs.\n",
    "E se usássemos as mesmas distribuições originais do exemplo, mas tivéssemos bem mais dados?"
   ]
  },
  {
   "cell_type": "code",
   "execution_count": 111,
   "id": "c30d1146",
   "metadata": {
    "scrolled": true
   },
   "outputs": [],
   "source": [
    "#aumentando a quantidade de dados\n",
    "d1 = np.random.normal(150,30,size=120)\n",
    "d2 = np.random.normal(140,30,size=120)\n"
   ]
  },
  {
   "cell_type": "code",
   "execution_count": 112,
   "id": "61e7d718",
   "metadata": {},
   "outputs": [
    {
     "name": "stdout",
     "output_type": "stream",
     "text": [
      "ConfidenceInterval(low=149.73359509163757, high=160.75713852303136)\n"
     ]
    }
   ],
   "source": [
    "#Default é 10k repetições\n",
    "d1 = (d1,)\n",
    "bootstrap_ci = stats.bootstrap(d1, np.mean, confidence_level=0.95,\n",
    "                         random_state=1, method='BCa')\n",
    "\n",
    "#IC 95% \n",
    "print(bootstrap_ci.confidence_interval)"
   ]
  },
  {
   "cell_type": "code",
   "execution_count": 113,
   "id": "f5c9fcd2",
   "metadata": {},
   "outputs": [
    {
     "name": "stdout",
     "output_type": "stream",
     "text": [
      "ConfidenceInterval(low=133.06252162476795, high=143.55564942906224)\n"
     ]
    }
   ],
   "source": [
    "#Default é 10k repetições\n",
    "d2 = (d2,)\n",
    "bootstrap_ci = stats.bootstrap(d2, np.mean, confidence_level=0.95,\n",
    "                         random_state=1, method='BCa')\n",
    "\n",
    "#IC 95% \n",
    "print(bootstrap_ci.confidence_interval)"
   ]
  },
  {
   "cell_type": "markdown",
   "id": "68a1c6b8",
   "metadata": {},
   "source": [
    "Descobrir o tamanho necessário da amostra para atingir certa confiança é outro tópico de estudo em inferência estatística ... chamado de *Power analysis* "
   ]
  },
  {
   "cell_type": "markdown",
   "id": "6ff0715e",
   "metadata": {},
   "source": [
    "## Outras maneiras de obter IC para a média"
   ]
  },
  {
   "cell_type": "markdown",
   "id": "589f2b32",
   "metadata": {},
   "source": [
    "Caso você tenha uma amostra pequena ($n<30$), o mais adequado é usar a distribuição T para obter o intervalo."
   ]
  },
  {
   "cell_type": "code",
   "execution_count": 26,
   "id": "c842dd0d",
   "metadata": {},
   "outputs": [
    {
     "data": {
      "text/plain": [
       "(70.73694684043569, 97.59369835786664)"
      ]
     },
     "execution_count": 26,
     "metadata": {},
     "output_type": "execute_result"
    }
   ],
   "source": [
    "p1 = np.random.choice(pop, 12)  #p1 tem menos que 30 elementos\n",
    "stats.t.interval(0.95, df=len(p1)-1, loc=np.mean(p1), scale=stats.sem(p1))\n"
   ]
  },
  {
   "cell_type": "markdown",
   "id": "1392caf4",
   "metadata": {},
   "source": [
    "Com $n>30$ podemos usar a distribuição Normal."
   ]
  },
  {
   "cell_type": "code",
   "execution_count": 28,
   "id": "d7fb1da4",
   "metadata": {},
   "outputs": [
    {
     "data": {
      "text/plain": [
       "(87.3243919094869, 102.9833124163307)"
      ]
     },
     "execution_count": 28,
     "metadata": {},
     "output_type": "execute_result"
    }
   ],
   "source": [
    "p1 = np.random.choice(pop, 50)  #p1 tem menos que 30 elementos\n",
    "stats.norm.interval(0.95, loc=np.mean(p1), scale=stats.sem(p1))"
   ]
  },
  {
   "cell_type": "markdown",
   "id": "e3d1e085",
   "metadata": {},
   "source": [
    "## Resumo: Intervalos de confiança\n",
    "\n",
    "- Intervalos de confiança indicam a incerteza que se tem sobre a média (ou mediana) da fonte que gerou os dados.\n",
    "\n",
    "- Este [artigo](http://www.bmj.com/content/292/6522/746.short) que argumenta a favor de intervalos de confiança em vez de testes estatísticos.\n",
    "\n",
    "- Se voce é o primeiro a publicar sobre um resultado, não há como compara-lo com o estado da arte. Assim voce deve apenas publicar o intervalo de confiança para o seu resultado.\n",
    "\n",
    "- Se voce não consegue reproduzir o programa ou metodo da “competição” para fazer um teste estatístico, voce pode comparar apenas os intervalos de confiança!"
   ]
  },
  {
   "cell_type": "markdown",
   "id": "79b4c22c",
   "metadata": {},
   "source": [
    "# Tamanho de Efeito"
   ]
  },
  {
   "cell_type": "markdown",
   "id": "dbfa549c",
   "metadata": {},
   "source": [
    "- Testes estatísticos medem a confiança que existe uma diferença entre os 2 conjuntos de dados.\n",
    "\n",
    "- Infelizmente, o nome *significante* parece indicar que a diferença é grande, ou importante.\n",
    "\n",
    "- **Isso não é verdade**: um p-valor baixo apenas indica que voce tem bastante certeza que a diferença existe, não que ela é importante ou significante no sentido tradicional da palavra.\n",
    "\n",
    "- **Tamanho do efeito** é uma família de medidas que medem o **tamanho da diferença entre os dois conjuntos**.\n",
    "\n",
    "- São medidas adimensionais (sem unidade de dimensão: metro, pontos na prova, etc)\n",
    "\n",
    "- Tamanho de efeito é comparável através de diferentes experimentos\n",
    "- Esse é um aspecto frequentemente negligenciado em apresentação de resultados\n",
    "- Esse é um [artigo interessante](https://machinelearningmastery.com/effect-size-measures-in-python/) introduzindo o conceito e falando sobre Python. Ele referência outros artigos advogando sobre o uso dessas *novas estatísticas*."
   ]
  },
  {
   "cell_type": "markdown",
   "id": "4af2c1d0",
   "metadata": {},
   "source": [
    "## Cohen D"
   ]
  },
  {
   "cell_type": "markdown",
   "id": "e274190f",
   "metadata": {},
   "source": [
    "- Tamanho de efeito para medidas numéricas.\n",
    "\n",
    "- diferença das médias de A e B dividido pelo “desvio padrão” (adimensional)\n",
    "\n",
    "- mede quão separado são as distribuições de dados de A e B. Veja essa [animação](http://rpsychologist.com/d3/cohend/).\n",
    "\n",
    "- um D=0.2 significa que a diferença das médias de A e B é 0.2 do desvio padrão “delas”.\n",
    "\n",
    "Há algumas definições diferentes para o Cohen D. A ideia é sempre a diferença das médias dividido pelo desvio padrão “dos dois conjuntos”. A questão é o que é o desvio padrão “dos conjuntos”. Há algumas possibilidades:\n",
    "\n",
    "- o desvio padrão da união dos dois conjuntos. Nenhuma abordagem segue isso\n",
    "-o desvio padrão de um só dos conjuntos (o conjunto “normal” ou de controle). Essa abordagem é chamada de delta de Glass.\n",
    "- a média dos desvio padrão dos dois conjuntos. Essa abordagem não tem um nome próprio mas é usada de vez em quando.\n",
    "-a média ponderada dos desvios padrão dos dois conjuntos. Essa abordagem é chamada de pooled standard variation.\n",
    "\n",
    "Além do *Cohen D*, há uma medida derivada chamada *Hedge g* que é o Cohen D com *pooled standard variation* mas com um outro termo multiplicativo de correção que tem maior efeito para conjuntos menores. Esse parece ser a medida mais correta para usar em artigos, mas ela não é diferente do Cohen D se os dois conjuntos de dados são grandes."
   ]
  },
  {
   "cell_type": "markdown",
   "id": "e65959f1",
   "metadata": {},
   "source": [
    "Um exemplo baseado no artigo citado acima para cálculo do Cohen D em Python:"
   ]
  },
  {
   "cell_type": "code",
   "execution_count": 64,
   "id": "15b28b43",
   "metadata": {},
   "outputs": [
    {
     "name": "stdout",
     "output_type": "stream",
     "text": [
      "Cohens d: 0.243\n"
     ]
    }
   ],
   "source": [
    "from math import sqrt\n",
    " \n",
    "# function to calculate Cohen's d for independent samples\n",
    "def cohend(d1, d2):\n",
    "\t# calculate the size of samples\n",
    "\tn1, n2 = len(d1), len(d2)\n",
    "\t# calculate the variance of the samples\n",
    "\ts1, s2 = np.var(d1, ddof=1), np.var(d2, ddof=1)\n",
    "\t# calculate the pooled standard deviation\n",
    "\ts = sqrt(((n1 - 1) * s1 + (n2 - 1) * s2) / (n1 + n2 - 2))\n",
    "\t# calculate the means of the samples\n",
    "\tu1, u2 = np.mean(d1), np.mean(d2)\n",
    "\t# calculate the effect size\n",
    "\treturn (u1 - u2) / s\n",
    " \n",
    "# seed random number generator\n",
    "np.random.seed(1)\n",
    "\n",
    "# prepare data\n",
    "data1 = np.random.normal(150,30,size=120)\n",
    "data2 = np.random.normal(140,30,size=120)\n",
    "\n",
    "# calculate cohen's d\n",
    "d = cohend(data1, data2)\n",
    "print('Cohens d: %.3f' % d)"
   ]
  },
  {
   "cell_type": "markdown",
   "id": "c8e64a44",
   "metadata": {},
   "source": [
    "## Comparável através de  experimentos"
   ]
  },
  {
   "cell_type": "markdown",
   "id": "dca71b4c",
   "metadata": {},
   "source": [
    "- Tamanho de efeito é comparável através de diferentes experimentos\n",
    "\n",
    "- Combinar tamanho de efeito é o que meta-analises fazem!\n",
    "\n",
    "- Cohen falou que um tamanho de efeito de 0.2 é pequeno. Na prática pode não ser.\n",
    "\n",
    "- Há algumas meta-meta-análises que mostram quais são valores razoáveis em diferentes áreas:\n",
    "    - [Engenharia de Software](http://www.sciencedirect.com/science/article/pii/S0950584907000195)\n",
    "    - [Educação](http://onlinelibrary.wiley.com/doi/10.1111/j.1750-8606.2008.00061.x/full)\n",
    "       - Por exemplo: 0.25 é a média de tamanhos de efeito para intervenções em educação básica."
   ]
  },
  {
   "cell_type": "markdown",
   "id": "08f2d8e6",
   "metadata": {},
   "source": [
    "## Intervalos de confiança para tamanho de efeito"
   ]
  },
  {
   "cell_type": "markdown",
   "id": "b1302fab",
   "metadata": {},
   "source": [
    "- Tamanho do efeito é apenas 1 número. Assim como a média de um conjunto é apenas 1 número.\n",
    "\n",
    "- Mas é possível definir um intervalo de incerteza para a média de um conjunto (fazendo pressuposições sobre a fonte F dos dados do conjunto).\n",
    "\n",
    "- Da mesma forma é possível calcular um intervalo de confiança para tamanho de efeito\n",
    "\n",
    "- Talvez esse seja o futuro. Veja esse [artigo](http://journals.sagepub.com/doi/abs/10.3102/0013189X031003025).\n",
    "\n",
    "- Isso resume tudo que é importante: se o intervalo de confiança cruza o zero então tradicionalmente a diferença não é significativa.\n",
    "\n",
    "- é possível também usar o bootstrap mas é um pouco mais complicado neste caso já que há dois conjuntos de dados que precisam ser bootstrap"
   ]
  },
  {
   "cell_type": "markdown",
   "id": "9322df75",
   "metadata": {},
   "source": [
    "# Problemas com testes estatísticos"
   ]
  },
  {
   "cell_type": "markdown",
   "id": "25b97959",
   "metadata": {},
   "source": [
    "## Múltiplos testes"
   ]
  },
  {
   "cell_type": "markdown",
   "id": "da221c82",
   "metadata": {},
   "source": [
    "- Se você repetir 20 vezes um teste que dá uma resposta errada com probabilidade 1/20, você terá em média 1 resposta errada! (isso é apenas uma aproximação - ver abaixo)\n",
    "\n",
    "- O programa abaixo roda 20 vezes o t-test para duas amostras de 30 dados vindo da mesma gaussiana (media = 0 desvio padrão = 1)"
   ]
  },
  {
   "cell_type": "code",
   "execution_count": 115,
   "id": "281def34",
   "metadata": {
    "scrolled": true
   },
   "outputs": [
    {
     "name": "stdout",
     "output_type": "stream",
     "text": [
      "0 :  0.7033952474581076\n",
      "1 :  0.5453674324714679\n",
      "2 :  0.3892422936448193\n",
      "3 :  0.01093961422607721\n",
      "4 :  0.5527009647186023\n",
      "5 :  0.8793840347222406\n",
      "6 :  0.9041080817282472\n",
      "7 :  0.6810819820149319\n",
      "8 :  0.30204828616399404\n",
      "9 :  0.7947067633705829\n",
      "10 :  0.41729006667602475\n",
      "11 :  0.7422148743281939\n",
      "12 :  0.5144796304033059\n",
      "13 :  0.8838421715461109\n",
      "14 :  0.17417083770946942\n",
      "15 :  0.05895629073293432\n",
      "16 :  0.7891414902657632\n",
      "17 :  0.8114542537232545\n",
      "18 :  0.8382658918784929\n",
      "19 :  0.6182840670621655\n"
     ]
    }
   ],
   "source": [
    "# seed random number generator\n",
    "np.random.seed(1234)\n",
    "\n",
    "for  i in range(20):\n",
    "    s, p = stats.ttest_ind(np.random.normal(0,1,size=30),np.random.normal(0,1,size=30))\n",
    "    print(i, ': ', p)"
   ]
  },
  {
   "cell_type": "markdown",
   "id": "9be8a65e",
   "metadata": {},
   "source": [
    "- Veja que existem entradas com $p< 0.05$ ! Veja também que não há nada errado em usar o teste t nestes casos.\n",
    "\n",
    "- Formalmente: a probabilidade que a repetição 20 vezes de um teste que erra $5\\%$ não de errado nenhuma vez é $0.95^{20} = 0.36$.  Ou seja a probabilidade que pelo menos uma  das 20 vezes o teste de errado é $1-0.36 = 0.641−0.36=0.64$"
   ]
  },
  {
   "cell_type": "markdown",
   "id": "ee9f13a2",
   "metadata": {},
   "source": [
    "## Múltiplos testes disfarçado de múltiplas variáveis"
   ]
  },
  {
   "cell_type": "markdown",
   "id": "6e63d5fd",
   "metadata": {},
   "source": [
    "- Se você medir 20 variáveis, provavelmente uma delas “vai dar” uma diferença significativa.\n",
    "- “Já que nos vamos fazer esse experimento caro/demorado, vamos também medir A, B, C, D …”"
   ]
  },
  {
   "cell_type": "code",
   "execution_count": 130,
   "id": "fabf0119",
   "metadata": {},
   "outputs": [],
   "source": [
    "A = np.random.normal(0, 1, (15, 20))\n",
    "B = np.random.normal(0, 1, (20, 20))"
   ]
  },
  {
   "cell_type": "code",
   "execution_count": 131,
   "id": "0363a409",
   "metadata": {},
   "outputs": [
    {
     "name": "stdout",
     "output_type": "stream",
     "text": [
      "0 :  0.4201974698913227\n",
      "1 :  0.9741106534052254\n",
      "2 :  0.6277430447454619\n",
      "3 :  0.6066688280150345\n",
      "4 :  0.6899965959270583\n",
      "5 :  0.7826513346877251\n",
      "6 :  0.21673463422285028\n",
      "7 :  0.31307090851205854\n",
      "8 :  0.595872344675489\n",
      "9 :  0.07284595799846005\n",
      "10 :  0.0061948899550782225\n",
      "11 :  0.214232186272562\n",
      "12 :  0.853589598511717\n",
      "13 :  0.8237825925117864\n",
      "14 :  0.16621232907459785\n",
      "15 :  0.9309327544278054\n",
      "16 :  0.951382550677923\n",
      "17 :  0.6466669854726903\n",
      "18 :  0.5163485739465714\n",
      "19 :  0.5615843245083181\n"
     ]
    }
   ],
   "source": [
    "for  i in range(20):\n",
    "    s, p = stats.ttest_ind(A[:,i],B[:,i])\n",
    "    print(i, ': ', p)"
   ]
  },
  {
   "cell_type": "markdown",
   "id": "6bd1f61c",
   "metadata": {},
   "source": [
    "- Neste caso cada coluna da matriz é uma “variavel” diferente. Há 15 medidas por variável na matriz $A$ e 20 medidas por variável na matriz $B$.\n",
    "- Mas todas as medidas para todas as variáveis vem da mesma gaussiana (média = 0 , sd = 1)\n",
    "- Exitem entradas com diferença significativa?"
   ]
  },
  {
   "cell_type": "markdown",
   "id": "0efb813c",
   "metadata": {},
   "source": [
    "## Múltiplos testes disfarçado de análise de subgrupos"
   ]
  },
  {
   "cell_type": "markdown",
   "id": "715db819",
   "metadata": {},
   "source": [
    "- O teste para todos não deu $p<0.05$\n",
    "- vamos testar apenas no subgrupo A, agora testar apenas o subgrupo B, agora apenas A e B juntos\n",
    "- analise de subgrupo é comumente uma técnica para encontrar alguma diferença significativa. [Um professor de nutrição de Cornell com uma pesquisa](https://www.buzzfeed.com/stephaniemlee/brian-wansink-cornell-p-hacking?utm_term=.mf0BGdQArD#.tyl9jrWV6w) (possivelmente fraudulenta).\n",
    "- por outro lado, descobrir que algo só funciona para um subgrupo é uma parte importante de pesquisa exploratória. Uma [discussao sobre isso](https://www.ncbi.nlm.nih.gov/pmc/articles/PMC2792383/)"
   ]
  },
  {
   "cell_type": "code",
   "execution_count": 223,
   "id": "6ef03305",
   "metadata": {},
   "outputs": [
    {
     "name": "stdout",
     "output_type": "stream",
     "text": [
      "Ttest_indResult(statistic=-1.4190635553567554, pvalue=0.1612324045501739)\n",
      "Ttest_indResult(statistic=0.10973227655570625, pvalue=0.9136635715442558)\n",
      "Ttest_indResult(statistic=-1.6688731371109289, pvalue=0.10460446193560559)\n",
      "Ttest_indResult(statistic=-2.4043004014735327, pvalue=0.03182773231367911)\n"
     ]
    }
   ],
   "source": [
    "# seed random number generator\n",
    "np.random.seed(5)\n",
    "a = np.random.normal(0, 1, 30)\n",
    "b = np.random.normal(0, 1, 30)\n",
    "\n",
    "print(stats.ttest_ind(a,b))\n",
    "print(stats.ttest_ind(a[1:10],b[1:15]))\n",
    "print(stats.ttest_ind(a[10:30],b[15:30]))\n",
    "print(stats.ttest_ind(a[20:30],b[25:30]))"
   ]
  },
  {
   "cell_type": "markdown",
   "id": "7558dca0",
   "metadata": {},
   "source": [
    "## Múltiplos testes disfarçado de olhar os dados antes"
   ]
  },
  {
   "cell_type": "markdown",
   "id": "52f4865c",
   "metadata": {},
   "source": [
    "- testes A/B para interface\n",
    "\n",
    "- voce planejou fazer 1000 experimentos para cada lado (há toda uma teoria para calcular o tamanho de um experimento nn dado a diferença esperada entre as médias e uma outra medida chamada de (type II error ou [power](https://www.youtube.com/watch?v=VX_M3tIyiYk&t=215s) - que normalmente usa-se 80%)\n",
    "- [Uma pagina sobre como calcular tamanho de teste A/B](https://www.invespcro.com/blog/calculating-sample-size-for-an-ab-test/)\n",
    "\n",
    "- voce mede as diferença antes do final - “da uma olhada nos dados”. Veja exemplo abaixo."
   ]
  },
  {
   "cell_type": "code",
   "execution_count": 212,
   "id": "abecabb9",
   "metadata": {
    "scrolled": true
   },
   "outputs": [
    {
     "name": "stdout",
     "output_type": "stream",
     "text": [
      "Ttest_indResult(statistic=0.26235879386967453, pvalue=0.7930718846769321)\n",
      "50 :  0.2830910584574366\n",
      "70 :  0.3078493649666181\n",
      "90 :  0.1975941981261971\n",
      "110 :  0.14508611851809708\n",
      "130 :  0.4983191060140969\n",
      "150 :  0.26480078943382684\n",
      "170 :  0.40196577798912636\n",
      "190 :  0.48476026494124713\n",
      "210 :  0.3503237332333837\n",
      "230 :  0.3689951596182065\n",
      "250 :  0.17358368304793856\n",
      "270 :  0.06365539481489428\n",
      "290 :  0.02072309291783904\n",
      "310 :  0.025184941255738367\n",
      "330 :  0.062462896205119314\n",
      "350 :  0.08739695148193204\n",
      "370 :  0.11498683642906364\n",
      "390 :  0.13595024406708395\n",
      "410 :  0.1273690703562663\n",
      "430 :  0.08842135601125595\n",
      "450 :  0.14646119023678783\n",
      "470 :  0.1890907048265809\n",
      "490 :  0.32496617201089484\n",
      "510 :  0.5425862570144374\n",
      "530 :  0.7417083190029592\n",
      "550 :  0.8249649639364537\n",
      "570 :  0.6972521871372959\n",
      "590 :  0.9266256347159869\n",
      "610 :  0.7701325090213561\n",
      "630 :  0.8279548975495024\n",
      "650 :  0.9116095950054678\n",
      "670 :  0.79744038947685\n",
      "690 :  0.8891457922693845\n",
      "710 :  0.8482891626142557\n",
      "730 :  0.8978316687922903\n",
      "750 :  0.9735510446616871\n",
      "770 :  0.9296449876517776\n",
      "790 :  0.9373092236495262\n",
      "810 :  0.9209165690970922\n",
      "830 :  0.7367090360938869\n",
      "850 :  0.642665114544635\n",
      "870 :  0.6408964445386349\n",
      "890 :  0.7544135553070932\n",
      "910 :  0.8665166071031487\n",
      "930 :  0.9626059938551478\n",
      "950 :  0.9653852744731217\n",
      "970 :  0.9360689599666391\n",
      "990 :  0.8741056157263762\n"
     ]
    }
   ],
   "source": [
    "np.random.seed(5555)\n",
    "a = np.random.normal(0, 1, 1000)\n",
    "b = np.random.normal(0, 1, 1000)\n",
    "print(stats.ttest_ind(a,b))\n",
    "for  i in range(50,1000,20):\n",
    "    s, p = stats.ttest_ind(a[1:i],b[1:i])\n",
    "    print(i, ': ', p)"
   ]
  },
  {
   "cell_type": "markdown",
   "id": "e9024ff0",
   "metadata": {},
   "source": [
    "## Múltiplos testes quando comparando vários conjuntos de dados: múltiplas comparações"
   ]
  },
  {
   "cell_type": "markdown",
   "id": "e8893af8",
   "metadata": {},
   "source": [
    "- Testes como o ANOVA, Kruskal-Wallis só dão um p-valor para a hipótese nula: todos os conjuntos de dados vieram da mesma fonte.\n",
    "- Se $p<0.05$, quais entre eles são significativamente diferentes e quais não? Isso é chamado de análise post hoc. \n",
    "- Uma idéia é fazer testes entre pares de conjuntos, e isso é chamado do [problema das múltiplas comparações](https://en.wikipedia.org/wiki/Multiple_comparisons_problem) \n",
    "- Há vários métodos para corrigir o valor dos p-valores de cada comparação (para valores mais altos)."
   ]
  },
  {
   "cell_type": "markdown",
   "id": "1375ae85",
   "metadata": {},
   "source": [
    "## Outros Problemas"
   ]
  },
  {
   "cell_type": "markdown",
   "id": "38f58820",
   "metadata": {},
   "source": [
    "- p-valor $<0.05$ não é um mandamento divino - resultados úteis não foram publicados pois p-valor=0.06\n",
    "\n",
    "- p-valor é uma função do “tamanho da diferença” entre os dois conjuntos e do número de dados:\n",
    "\n",
    "  - p-valor muito baixo não significa que os dois conjuntos são muito diferentes. Para  n → ∞, p-valor vai para 0 ou 1.\n",
    "\n",
    "  - p-valor alto não significa que os conjuntos são iguais, pode significar que você tem poucos dados. Em alguns casos voce quer mostrar que seu programa é tão rápido quanto um programa pago, mas o seu é livre. Ou que seu programa acerta tanto quanto um programa conhecido, mas o seu é mais rápido. Não da para usar p-valor para mostrar que 2 conjuntos são iguais (nesse sentido)."
   ]
  },
  {
   "cell_type": "markdown",
   "id": "07fad244",
   "metadata": {},
   "source": [
    "## O que isso significa?"
   ]
  },
  {
   "cell_type": "markdown",
   "id": "6e6ef24d",
   "metadata": {},
   "source": [
    "- Variações do problema de múltiplos testes geram falsos positivos: afirmações que um fenômeno existe quando ele de fato não existe.\n",
    "\n",
    "- De vez em quando isso é chamado de *p-hacking* mas o problema existe mesmo quando o pesquisador não tem más intenções\n",
    "  - Existem técnicas para corrigir o *p-value* quando temos múltiplos testes, como *False Discovery Rate (FDR)*. \n",
    "  - Aqui um [vídeo](https://www.youtube.com/watch?v=HDCOUXE3HMM) sobre p-hacking e FDR.\n",
    "\n",
    "- É por isso que para coisas importantes como saúde você deve duvidar que todo resultado que saiu em um só artigo - pode ser um falso positivo.\n",
    "\n",
    "- [Blog](http://io9.gizmodo.com/i-fooled-millions-into-thinking-chocolate-helps-weight-1707251800) de um pesquisador que gerou um artigo “fake” que chocolate ajuda a emagrecer\n",
    "\n",
    "- [Blog](https://fivethirtyeight.com/features/science-isnt-broken/) sobre problemas da Ciência\n",
    "\n",
    "- Outro [Video](https://www.youtube.com/watch?v=tLM7xS6t4FE) interessante sobre isso."
   ]
  }
 ],
 "metadata": {
  "kernelspec": {
   "display_name": "Python 3 (ipykernel)",
   "language": "python",
   "name": "python3"
  },
  "language_info": {
   "codemirror_mode": {
    "name": "ipython",
    "version": 3
   },
   "file_extension": ".py",
   "mimetype": "text/x-python",
   "name": "python",
   "nbconvert_exporter": "python",
   "pygments_lexer": "ipython3",
   "version": "3.9.7"
  },
  "latex_envs": {
   "LaTeX_envs_menu_present": true,
   "autoclose": false,
   "autocomplete": true,
   "bibliofile": "biblio.bib",
   "cite_by": "apalike",
   "current_citInitial": 1,
   "eqLabelWithNumbers": true,
   "eqNumInitial": 1,
   "hotkeys": {
    "equation": "Ctrl-E",
    "itemize": "Ctrl-I"
   },
   "labels_anchors": false,
   "latex_user_defs": false,
   "report_style_numbering": false,
   "user_envs_cfg": false
  },
  "toc": {
   "base_numbering": 1,
   "nav_menu": {},
   "number_sections": true,
   "sideBar": true,
   "skip_h1_title": false,
   "title_cell": "Table of Contents",
   "title_sidebar": "Contents",
   "toc_cell": false,
   "toc_position": {},
   "toc_section_display": true,
   "toc_window_display": true
  }
 },
 "nbformat": 4,
 "nbformat_minor": 5
}
