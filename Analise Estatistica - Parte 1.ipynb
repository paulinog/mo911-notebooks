{
 "cells": [
  {
   "cell_type": "code",
   "execution_count": 9,
   "id": "a412bf8b",
   "metadata": {},
   "outputs": [],
   "source": [
    "import numpy as np\n",
    "import scipy.stats as stats\n",
    "import matplotlib.pyplot as plt"
   ]
  },
  {
   "cell_type": "markdown",
   "id": "1bb699fc",
   "metadata": {},
   "source": [
    "# Testes estatísticos de significância\n",
    "\n",
    "- O papel de testes estatísticos é dar evidencias que dois (ou mais) conjuntos de dados não vieram da mesma fonte.\n",
    "\n",
    "Você rodou 2 versões de um programa em vários dados:\n",
    "\n",
    "- programa 1 demorou 10.30, 12.08, 9.33, 9.62, 9.88 (segundos) em 5 exemplos\n",
    "- programa 2 demorou 9.23, 9.84, 8.55, 10.42 em outros 4 exemplos.\n",
    "\n",
    "Há dois conjuntos de dados. Não existe teste para 2 números, só para 2 ou mais conjuntos de dados\n",
    "\n",
    "- Dizer que os dois conjuntos de dados são “diferentes” é numa primeira aproximação dizer que esses dados vieram de duas fontes de dados (“populações”) diferentes.\n",
    "\n",
    "- Ou melhor, dizer que dois conjuntos são **diferentes** é dizer que é bem **improvável** que os dados vieram da **mesma** fonte.\n"
   ]
  },
  {
   "cell_type": "markdown",
   "id": "8d724d19",
   "metadata": {},
   "source": [
    "## Erros de amostragem (ou ruídos de amostragem)\n",
    "\n",
    "Dados retirados (amostrados) de uma mesma fonte podem ter médias diferentes. A diferença é apenas por causa da sorte ou do azar. Isso é chamado de *erro de amostragem*. O nome erro não é um bom nome, pense como *ruído de amostragem*\n",
    "\n",
    "Vejamos um exemplo. Primeiro vamos gerar um população com 10.000 números aleatórios, com média 100 e desvio padrão 30."
   ]
  },
  {
   "cell_type": "code",
   "execution_count": 3,
   "id": "f140e5e0",
   "metadata": {},
   "outputs": [],
   "source": [
    "np.random.seed(1234)\n",
    "pop = np.random.normal(100,30,size=10000)"
   ]
  },
  {
   "cell_type": "markdown",
   "id": "231e51d5",
   "metadata": {},
   "source": [
    "Vamos gerar um histograma para verificar se os dados se assemelham a uma distribuição normal realmente."
   ]
  },
  {
   "cell_type": "code",
   "execution_count": 5,
   "id": "0829291f",
   "metadata": {},
   "outputs": [
    {
     "data": {
      "image/png": "[encoded data removed]",
      "text/plain": [
       "<Figure size 432x288 with 1 Axes>"
      ]
     },
     "metadata": {
      "needs_background": "light"
     },
     "output_type": "display_data"
    }
   ],
   "source": [
    "plt.hist(pop, bins='auto')\n",
    "plt.title(\"Histograma da População\")\n",
    "plt.show()"
   ]
  },
  {
   "cell_type": "markdown",
   "id": "769fac88",
   "metadata": {},
   "source": [
    "Vamos gerar duas amostras vindas dessa população e calcular suas médias."
   ]
  },
  {
   "cell_type": "code",
   "execution_count": 12,
   "id": "d64e0535",
   "metadata": {},
   "outputs": [
    {
     "data": {
      "text/plain": [
       "101.52474152448622"
      ]
     },
     "execution_count": 12,
     "metadata": {},
     "output_type": "execute_result"
    }
   ],
   "source": [
    "p1 = np.random.choice(pop, 12)\n",
    "np.mean(p1)"
   ]
  },
  {
   "cell_type": "code",
   "execution_count": 8,
   "id": "8a58d75a",
   "metadata": {},
   "outputs": [
    {
     "data": {
      "text/plain": [
       "108.3516117635843"
      ]
     },
     "execution_count": 8,
     "metadata": {},
     "output_type": "execute_result"
    }
   ],
   "source": [
    "p2 = np.random.choice(pop, 12)\n",
    "np.mean(p2)"
   ]
  },
  {
   "cell_type": "markdown",
   "id": "4cf72ee7",
   "metadata": {},
   "source": [
    "Vamos assumir que **p2** são os tempos de execução do seu programa e **p1** são os tempos de execução de um programa conhecido publicado na literatura, e seu mestrado é fazer uma implementação mais rápida do programa **p1**\n",
    "\n",
    "Voce pode dizer a sua orientadora que vc terminou o mestrado ja que voce criou um programa que é por votla de 15% mais rápido que o estado da arte?"
   ]
  },
  {
   "cell_type": "markdown",
   "id": "bd683a18",
   "metadata": {},
   "source": [
    "## Teste\n",
    "\n",
    "Um teste estatístico informa a probabilidade de que os dados sejam tão (ou mais) diferentes quanto eles são tendo em vista que eles vieram da mesma fonte de dados. Esse valor é chamado de *p-valor* ou *p-value*\n",
    "\n",
    "Se a probabilidade é alta então é provável que a diferença que voce encontrou na média (ou outras medidas - mais abaixo) é apenas devido a sorte (ruído de amostragem).\n",
    "\n",
    "Se a probabilidade é baixa então voce pode dizer que é pouco provável que os dados vieram de uma mesma fonte, ou \n",
    "\n",
    "Se a probabilidade é baixa voce pode dizer que é bem provável que os dados realmente vieram de 2 fontes diferentes.\n",
    "\n",
    "O termo oficial para dizer que *é bem provável que os dados realmente vieram de 2 fontes diferente* é a *diferença é estatisticamente significante* ou *a diferença é estatisticamente significativa*"
   ]
  },
  {
   "cell_type": "code",
   "execution_count": 13,
   "id": "a29a27ab",
   "metadata": {
    "scrolled": true
   },
   "outputs": [
    {
     "data": {
      "text/plain": [
       "Ttest_indResult(statistic=-0.5069474461113296, pvalue=0.6172354299153425)"
      ]
     },
     "execution_count": 13,
     "metadata": {},
     "output_type": "execute_result"
    }
   ],
   "source": [
    "stats.ttest_ind(p1,p2)\n"
   ]
  },
  {
   "cell_type": "markdown",
   "id": "7f54060d",
   "metadata": {},
   "source": [
    "Vamos agora gerar uma amostra de tamanho parecido mas sabidamente com distribuição diferente e rodar novamente o teste contra a nossa amostra p1."
   ]
  },
  {
   "cell_type": "code",
   "execution_count": 19,
   "id": "bf2570d9",
   "metadata": {},
   "outputs": [
    {
     "name": "stdout",
     "output_type": "stream",
     "text": [
      "[154.70882158 119.53579818 183.54437948 134.86990689 207.3054905\n",
      " 117.78953978 117.64115419 144.73978265 174.53641178 155.7139643\n",
      " 149.19330155 145.38378642]\n"
     ]
    }
   ],
   "source": [
    "a = np.random.normal(150,30,size=12)\n",
    "print(a)"
   ]
  },
  {
   "cell_type": "code",
   "execution_count": 20,
   "id": "fe94e6fe",
   "metadata": {},
   "outputs": [
    {
     "data": {
      "text/plain": [
       "Ttest_indResult(statistic=-3.9432460844483317, pvalue=0.0006925788114184218)"
      ]
     },
     "execution_count": 20,
     "metadata": {},
     "output_type": "execute_result"
    }
   ],
   "source": [
    "stats.ttest_ind(p1,a)"
   ]
  },
  {
   "cell_type": "markdown",
   "id": "041bb959",
   "metadata": {},
   "source": [
    "### Valor usado como decisão: *p < 0.05*\n",
    "\n",
    "Tradicionalmente, na maioria das Ciências e em particular em Computação usa-se o valor de 0.05 de p-valor para afirmar que a diferença é estatisticamente significante\n",
    "\n",
    "Na prática, se o p-valor do seu teste der 0.051 você não tem um paper para publicar!!!\n",
    "\n",
    "Há criticas sobre usar o p-valor como decisão, e veremos isso numa próxima aula, mas tradicionalmente essa é a prática."
   ]
  },
  {
   "cell_type": "markdown",
   "id": "185e7260",
   "metadata": {},
   "source": [
    "## Resumo: teste estatísticos\n",
    "\n",
    "- Você tem dois conjuntos de dados A e B.\n",
    "\n",
    "- Assuma que eles vieram de uma mesma fonte de dados F (cujos detalhes você não sabe). Isso é chamado de hipótese nula.\n",
    "\n",
    "- Calcule a probabilidade que 2 amostras dessa fonte F tenham as médias tão diferentes quanto as médias de A e B. Essa probabilidade é chamada de p-valor\n",
    "\n",
    "- Se o p-valor é alto, então é mais provável que A e B venham dessa mesma fonte e a diferença nas médias é apenas devido a “sorte”\n",
    "\n",
    "- Se o p-valor for baixo então há baixa chance que dados tão diferentes quanto os de A e B tenham vindo desta mesma fonte F. Se eles vieram de “fontes diferentes” então a diferença entre eles não é apenas por causa da sorte.\n",
    "\n",
    "- Em Ciência em geral, assume-se que p-valores menores que 0.05 (ou 95% de confiança) são evidência suficiente que os dados não vieram de uma mesma fonte.\n",
    "\n",
    "- Assim, se o p-valor é baixo (< 0.05<0.05), você tem alguma evidência que os conjuntos de dados são realmente diferentes (não vieram da mesma fonte) e diz-se que a diferença é **estatisticamente significante** (com 95% de confiança)\n",
    "\n",
    "- Se o p-valor é alto (> 0.05>0.05) não há nada que você pode dizer. Você **não** mostrou que os dados são **semelhantes** ou **iguais**. Você apenas não conseguiu mostrar que eles são diferentes!!!\n",
    "\n",
    "- Assim normalmente você quer um p-valor baixo\n",
    "\n",
    "- O papel de testes estatísticos é dar evidencias que a diferença entre a média de dois (ou mais) *conjuntos* de dados não é devido apenas a sorte (ou ao ruído de amostragem) "
   ]
  }
 ],
 "metadata": {
  "kernelspec": {
   "display_name": "Python 3 (ipykernel)",
   "language": "python",
   "name": "python3"
  },
  "language_info": {
   "codemirror_mode": {
    "name": "ipython",
    "version": 3
   },
   "file_extension": ".py",
   "mimetype": "text/x-python",
   "name": "python",
   "nbconvert_exporter": "python",
   "pygments_lexer": "ipython3",
   "version": "3.9.7"
  },
  "latex_envs": {
   "LaTeX_envs_menu_present": true,
   "autoclose": false,
   "autocomplete": true,
   "bibliofile": "biblio.bib",
   "cite_by": "apalike",
   "current_citInitial": 1,
   "eqLabelWithNumbers": true,
   "eqNumInitial": 1,
   "hotkeys": {
    "equation": "Ctrl-E",
    "itemize": "Ctrl-I"
   },
   "labels_anchors": false,
   "latex_user_defs": false,
   "report_style_numbering": false,
   "user_envs_cfg": false
  },
  "toc": {
   "base_numbering": 1,
   "nav_menu": {},
   "number_sections": true,
   "sideBar": true,
   "skip_h1_title": false,
   "title_cell": "Table of Contents",
   "title_sidebar": "Contents",
   "toc_cell": false,
   "toc_position": {},
   "toc_section_display": true,
   "toc_window_display": true
  }
 },
 "nbformat": 4,
 "nbformat_minor": 5
}
